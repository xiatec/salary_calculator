{
 "cells": [
  {
   "cell_type": "code",
   "execution_count": 2,
   "id": "52fcfe40",
   "metadata": {},
   "outputs": [
    {
     "name": "stdout",
     "output_type": "stream",
     "text": [
      "C:\\Users\\srija\\Documents\\DS_Job_Salary_Predictor\n"
     ]
    }
   ],
   "source": [
    "%cd .."
   ]
  },
  {
   "cell_type": "code",
   "execution_count": 3,
   "id": "2ec62195",
   "metadata": {},
   "outputs": [],
   "source": [
    "import os\n",
    "import sys\n",
    "import pandas as pd\n",
    "import shutil\n",
    "from pathlib import Path\n",
    "from src.exception import CustomException\n",
    "from src.logger import logging\n",
    "from sklearn.model_selection import train_test_split"
   ]
  },
  {
   "cell_type": "code",
   "execution_count": 6,
   "id": "1c4f4636",
   "metadata": {},
   "outputs": [],
   "source": [
    "def train_test_splitting(path):\n",
    "    os.chdir(path)\n",
    "    \n",
    "    try:\n",
    "        for i in os.listdir():\n",
    "            \n",
    "            df = pd.read_csv(i)\n",
    "            df_train, df_test = train_test_split(df,test_size=0.2)\n",
    "            df_train.to_csv('C:/Users/srija/Documents/DS_Job_Salary_Predictor/data/train.csv',index=False)\n",
    "            df_test.to_csv('C:/Users/srija/Documents/DS_Job_Salary_Predictor/data/test.csv',index=False)\n",
    "\n",
    "    except Exception as e:\n",
    "        raise CustomException(e,sys)\n",
    "        \n",
    "train_test_splitting('C:/Users/srija/Documents/DS_Job_Salary_Predictor/data/good_data')"
   ]
  },
  {
   "cell_type": "code",
   "execution_count": null,
   "id": "c74b1c42",
   "metadata": {},
   "outputs": [],
   "source": []
  }
 ],
 "metadata": {
  "kernelspec": {
   "display_name": "Python 3 (ipykernel)",
   "language": "python",
   "name": "python3"
  },
  "language_info": {
   "codemirror_mode": {
    "name": "ipython",
    "version": 3
   },
   "file_extension": ".py",
   "mimetype": "text/x-python",
   "name": "python",
   "nbconvert_exporter": "python",
   "pygments_lexer": "ipython3",
   "version": "3.10.0"
  }
 },
 "nbformat": 4,
 "nbformat_minor": 5
}
