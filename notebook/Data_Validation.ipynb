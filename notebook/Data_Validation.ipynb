{
 "cells": [
  {
   "cell_type": "code",
   "execution_count": 1,
   "id": "f7fade08",
   "metadata": {},
   "outputs": [
    {
     "ename": "NameError",
     "evalue": "name 'os' is not defined",
     "output_type": "error",
     "traceback": [
      "\u001b[1;31m---------------------------------------------------------------------------\u001b[0m",
      "\u001b[1;31mNameError\u001b[0m                                 Traceback (most recent call last)",
      "Cell \u001b[1;32mIn[1], line 3\u001b[0m\n\u001b[0;32m      1\u001b[0m path \u001b[38;5;241m=\u001b[39m \u001b[38;5;124m'\u001b[39m\u001b[38;5;124mC:/Users/srija/Documents/DS_Job_Salary_Predictor/data/raw_data\u001b[39m\u001b[38;5;124m'\u001b[39m\n\u001b[1;32m----> 3\u001b[0m \u001b[43mos\u001b[49m\u001b[38;5;241m.\u001b[39mchdir(path)\n",
      "\u001b[1;31mNameError\u001b[0m: name 'os' is not defined"
     ]
    }
   ],
   "source": [
    "path = 'C:/Users/srija/Documents/DS_Job_Salary_Predictor/data/raw_data'\n",
    "\n",
    "os.chdir(path)"
   ]
  },
  {
   "cell_type": "code",
   "execution_count": 3,
   "id": "0d97a89a",
   "metadata": {},
   "outputs": [
    {
     "name": "stdout",
     "output_type": "stream",
     "text": [
      "C:\\Users\\srija\\Documents\\DS_Job_Salary_Predictor\n"
     ]
    }
   ],
   "source": [
    "%cd .."
   ]
  },
  {
   "cell_type": "code",
   "execution_count": 9,
   "id": "1e23df14",
   "metadata": {},
   "outputs": [],
   "source": [
    "import os\n",
    "import sys\n",
    "import pandas as pd\n",
    "import shutil\n",
    "from pathlib import Path\n",
    "from src.exception import CustomException\n",
    "from src.logger import logging"
   ]
  },
  {
   "cell_type": "code",
   "execution_count": 10,
   "id": "c5792ca8",
   "metadata": {},
   "outputs": [
    {
     "name": "stdout",
     "output_type": "stream",
     "text": [
      "Correct data  raw_glassdoor_jobs.csv\n",
      "Incorrect filename  test_data.txt\n"
     ]
    }
   ],
   "source": [
    "path = 'C:/Users/srija/Documents/DS_Job_Salary_Predictor/data/raw_data'\n",
    "\n",
    "os.chdir(path)\n",
    "if os.listdir():\n",
    "    for i in os.listdir():\n",
    "        if i.startswith('raw') and i.endswith('.csv'):\n",
    "            df = pd.read_csv(i)\n",
    "            if len(df.columns)==16 and df.isnull().values.all(axis=0).sum()==0:\n",
    "                print(\"Correct data \",i)\n",
    "                shutil.copy(i,\"C:/Users/srija/Documents/DS_Job_Salary_Predictor/data/good_data\")\n",
    "            else:\n",
    "                print(\"Incorrect data \",i)\n",
    "                shutil.copy(i,\"C:/Users/srija/Documents/DS_Job_Salary_Predictor/data/bad_data_archived\")\n",
    "        else:\n",
    "            print(\"Incorrect filename \",i)\n",
    "            shutil.copy(i,\"C:/Users/srija/Documents/DS_Job_Salary_Predictor/data/bad_data_archived\")\n",
    "else:\n",
    "    print(\"Folder is empty\")"
   ]
  },
  {
   "cell_type": "code",
   "execution_count": 11,
   "id": "6a8b0ea5",
   "metadata": {},
   "outputs": [
    {
     "data": {
      "text/plain": [
       "'C:\\\\Users\\\\srija\\\\Documents\\\\DS_Job_Salary_Predictor\\\\data\\\\raw_data'"
      ]
     },
     "execution_count": 11,
     "metadata": {},
     "output_type": "execute_result"
    }
   ],
   "source": [
    "os.getcwd()"
   ]
  },
  {
   "cell_type": "code",
   "execution_count": 12,
   "id": "65b92459",
   "metadata": {},
   "outputs": [],
   "source": [
    "def Data_validation(path):\n",
    "    '''\n",
    "    This function will validate the raw data coming in on 3 basis:\n",
    "    1. Is the directory empty ?\n",
    "    2. If directory is not empty, then name of the file matches the expected value?\n",
    "    3. If name of file is correct, are there exact number of columns as expected and no entire null columns in the data?\n",
    "    '''\n",
    "    \n",
    "    os.chdir(path)\n",
    "    \n",
    "    logging.info(\"Data Validation started\")\n",
    "    try:\n",
    "        if os.listdir():\n",
    "            for i in os.listdir():\n",
    "                if i.startswith('raw') and i.endswith('.csv'):\n",
    "                    df = pd.read_csv(i)\n",
    "                    if len(df.columns)==15 and df.isnull().values.all(axis=0).sum()==0:\n",
    "                        logging.info(\"Correct data\")\n",
    "                        shutil.copy(i,\"C:/Users/srija/Documents/DS_Job_Salary_Predictor/data/good_data\")\n",
    "                    else:\n",
    "                        logging.info(\"Incorrect data\")\n",
    "                        shutil.copy(i,\"C:/Users/srija/Documents/DS_Job_Salary_Predictor/data/bad_data_archived\")\n",
    "                else:\n",
    "                    logging.info(\"Incorrect filename\")\n",
    "                    shutil.copy(i,\"C:/Users/srija/Documents/DS_Job_Salary_Predictor/data/bad_data_archived\")\n",
    "        else:\n",
    "            logging.info(\"Folder is empty\")\n",
    "    except Exception as e:\n",
    "        raise CustomException(e,sys)\n",
    "        \n",
    "Data_validation('C:/Users/srija/Documents/DS_Job_Salary_Predictor/data/raw_data')"
   ]
  },
  {
   "cell_type": "code",
   "execution_count": null,
   "id": "cb017652",
   "metadata": {},
   "outputs": [],
   "source": [
    "\n"
   ]
  }
 ],
 "metadata": {
  "kernelspec": {
   "display_name": "Python 3 (ipykernel)",
   "language": "python",
   "name": "python3"
  },
  "language_info": {
   "codemirror_mode": {
    "name": "ipython",
    "version": 3
   },
   "file_extension": ".py",
   "mimetype": "text/x-python",
   "name": "python",
   "nbconvert_exporter": "python",
   "pygments_lexer": "ipython3",
   "version": "3.10.0"
  }
 },
 "nbformat": 4,
 "nbformat_minor": 5
}
